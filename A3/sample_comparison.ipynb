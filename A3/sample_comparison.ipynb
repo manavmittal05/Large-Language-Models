{
 "cells": [
  {
   "cell_type": "code",
   "execution_count": 7,
   "metadata": {},
   "outputs": [],
   "source": [
    "from datasets import load_dataset\n",
    "from tqdm.autonotebook import tqdm\n",
    "import pandas as pd"
   ]
  },
  {
   "cell_type": "code",
   "execution_count": 8,
   "metadata": {},
   "outputs": [],
   "source": [
    "def select_samples(dataset, step):\n",
    "    dataset = dataset.select(range(0, len(dataset), step))\n",
    "    return dataset\n",
    "\n",
    "dataset = load_dataset('stanfordnlp/snli')\n",
    "dataset['train'] = select_samples(dataset['train'], 550)\n",
    "dataset['validation'] = select_samples(dataset['validation'], 100)\n",
    "dataset['test'] = select_samples(dataset['test'], 100)"
   ]
  },
  {
   "cell_type": "code",
   "execution_count": 9,
   "metadata": {},
   "outputs": [],
   "source": [
    "pretrained_predictions = pd.read_csv('train_predictions.csv')\n",
    "finetuned_predictions = pd.read_csv('test_predictions.csv')"
   ]
  },
  {
   "cell_type": "code",
   "execution_count": 18,
   "metadata": {},
   "outputs": [
    {
     "name": "stdout",
     "output_type": "stream",
     "text": [
      "Premise: A woman within an orchestra is playing a violin.\n",
      "Hypothesis: A woman is playing the violin.\n",
      "Label: Entailment\n",
      "Label Pretrained: Contradiction\n",
      "Label Finetuned: Entailment\n",
      "\n",
      "Premise: Two men climbing on a wooden scaffold.\n",
      "Hypothesis: Two sad men climbing on a wooden scaffold.\n",
      "Label: Neutral\n",
      "Label Pretrained: Contradiction\n",
      "Label Finetuned: Neutral\n",
      "\n",
      "Premise: A man in a black shirt, in a commercial kitchen, holding up meat he took out of a bag.\n",
      "Hypothesis: A man in a black shirt, in a commercial kitchen, holding up the old meat he took out of a bag.\n",
      "Label: Neutral\n",
      "Label Pretrained: Entailment\n",
      "Label Finetuned: Neutral\n",
      "\n",
      "Premise: a woman in a black shirt looking at a bicycle.\n",
      "Hypothesis: A woman dressed in black shops for a bicycle.\n",
      "Label: Neutral\n",
      "Label Pretrained: Contradiction\n",
      "Label Finetuned: Neutral\n",
      "\n",
      "Premise: A group of people stand near and on a large black square on the ground with some yellow writing on it.\n",
      "Hypothesis: a group of people wait\n",
      "Label: Neutral\n",
      "Label Pretrained: Entailment\n",
      "Label Finetuned: Neutral\n",
      "\n"
     ]
    }
   ],
   "source": [
    "# generate a list of the indices where the predictions differ and fine-tuned model is correct\n",
    "indices = []\n",
    "for i in range(len(pretrained_predictions)):\n",
    "\tif pretrained_predictions['predictions'][i] != finetuned_predictions['predictions'][i] and finetuned_predictions['labels'][i] == finetuned_predictions['predictions'][i]:\n",
    "\t\tindices.append(i)\n",
    "\n",
    "indices = indices[:5]\n",
    "\n",
    "id2label = {0: 'Entailment', 1: 'Neutral', 2: 'Contradiction'}\n",
    "\n",
    "for i in indices:\n",
    "\tprint(f\"Premise: {dataset['test']['premise'][i]}\\nHypothesis: {dataset['test']['hypothesis'][i]}\\nLabel: {id2label[dataset['test']['label'][i]]}\\nLabel Pretrained: {id2label[pretrained_predictions['predictions'][i]]}\\nLabel Finetuned: {id2label[finetuned_predictions['predictions'][i]]}\\n\")"
   ]
  },
  {
   "cell_type": "code",
   "execution_count": 19,
   "metadata": {},
   "outputs": [
    {
     "name": "stdout",
     "output_type": "stream",
     "text": [
      "Premise: This church choir sings to the masses as they sing joyous songs from the book at a church.\n",
      "Hypothesis: The church has cracks in the ceiling.\n",
      "Label: Neutral\n",
      "Label Finetuned: Contradiction\n",
      "\n",
      "Premise: A Skier ski-jumping while two other skiers watch his act.\n",
      "Hypothesis: A skier preparing a trick\n",
      "Label: Entailment\n",
      "Label Finetuned: Neutral\n",
      "\n",
      "Premise: A woman is standing near three stores, two have beautiful artwork and the other store has Largo written on it.\n",
      "Hypothesis: A woman standing on a street corner outside beside three different stores, two of which contain beautiful artwork and one with a Largo sign.\n",
      "Label: Entailment\n",
      "Label Finetuned: Neutral\n",
      "\n",
      "Premise: An Ambulance is passing a man wearing a bandanna and girl.\n",
      "Hypothesis: The man in the bandana is running after the ambulance\n",
      "Label: Contradiction\n",
      "Label Finetuned: Neutral\n",
      "\n",
      "Premise: Two middle-aged police officers watch over a parking lot, at night.\n",
      "Hypothesis: The officers are actually security guards.\n",
      "Label: Contradiction\n",
      "Label Finetuned: Neutral\n",
      "\n"
     ]
    }
   ],
   "source": [
    "indices = []\n",
    "\n",
    "for i in range(len(pretrained_predictions)):\n",
    "\tif finetuned_predictions['labels'][i] != finetuned_predictions['predictions'][i]:\n",
    "\t\tindices.append(i)\n",
    "\n",
    "indices = indices[:5]\n",
    "\n",
    "for i in indices:\n",
    "\tprint(f\"Premise: {dataset['test']['premise'][i]}\\nHypothesis: {dataset['test']['hypothesis'][i]}\\nLabel: {id2label[dataset['test']['label'][i]]}\\nLabel Finetuned: {id2label[finetuned_predictions['predictions'][i]]}\\n\")\n"
   ]
  },
  {
   "cell_type": "code",
   "execution_count": null,
   "metadata": {},
   "outputs": [],
   "source": []
  }
 ],
 "metadata": {
  "kernelspec": {
   "display_name": "Python 3",
   "language": "python",
   "name": "python3"
  },
  "language_info": {
   "codemirror_mode": {
    "name": "ipython",
    "version": 3
   },
   "file_extension": ".py",
   "mimetype": "text/x-python",
   "name": "python",
   "nbconvert_exporter": "python",
   "pygments_lexer": "ipython3",
   "version": "3.12.7"
  }
 },
 "nbformat": 4,
 "nbformat_minor": 2
}
