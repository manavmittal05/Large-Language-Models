{
 "cells": [
  {
   "cell_type": "code",
   "execution_count": 1,
   "metadata": {},
   "outputs": [],
   "source": [
    "import torch"
   ]
  },
  {
   "cell_type": "code",
   "execution_count": 2,
   "metadata": {},
   "outputs": [
    {
     "data": {
      "application/vnd.jupyter.widget-view+json": {
       "model_id": "ed712372b13b4947921919e5eff53db6",
       "version_major": 2,
       "version_minor": 0
      },
      "text/plain": [
       "Downloading readme:   0%|          | 0.00/4.68k [00:00<?, ?B/s]"
      ]
     },
     "metadata": {},
     "output_type": "display_data"
    },
    {
     "data": {
      "application/vnd.jupyter.widget-view+json": {
       "model_id": "f1ca9b004f5443e8b283000c7ae53031",
       "version_major": 2,
       "version_minor": 0
      },
      "text/plain": [
       "Downloading data:   0%|          | 0.00/20.1M [00:00<?, ?B/s]"
      ]
     },
     "metadata": {},
     "output_type": "display_data"
    },
    {
     "data": {
      "application/vnd.jupyter.widget-view+json": {
       "model_id": "39360db7beb34dba9eb860662712335a",
       "version_major": 2,
       "version_minor": 0
      },
      "text/plain": [
       "Generating train split:   0%|          | 0/114000 [00:00<?, ? examples/s]"
      ]
     },
     "metadata": {},
     "output_type": "display_data"
    }
   ],
   "source": [
    "from datasets import load_dataset\n",
    "\n",
    "ds = load_dataset(\"maharshipandya/spotify-tracks-dataset\")"
   ]
  },
  {
   "cell_type": "code",
   "execution_count": 22,
   "metadata": {},
   "outputs": [],
   "source": [
    "import pandas as pd\n",
    "\n",
    "df = pd.read_csv(\"hf://datasets/maharshipandya/spotify-tracks-dataset/dataset.csv\")\n",
    "df.dropna(inplace=True)"
   ]
  },
  {
   "cell_type": "code",
   "execution_count": 28,
   "metadata": {},
   "outputs": [
    {
     "data": {
      "text/html": [
       "<div>\n",
       "<style scoped>\n",
       "    .dataframe tbody tr th:only-of-type {\n",
       "        vertical-align: middle;\n",
       "    }\n",
       "\n",
       "    .dataframe tbody tr th {\n",
       "        vertical-align: top;\n",
       "    }\n",
       "\n",
       "    .dataframe thead th {\n",
       "        text-align: right;\n",
       "    }\n",
       "</style>\n",
       "<table border=\"1\" class=\"dataframe\">\n",
       "  <thead>\n",
       "    <tr style=\"text-align: right;\">\n",
       "      <th></th>\n",
       "      <th>album_name</th>\n",
       "      <th>track_name</th>\n",
       "      <th>artists</th>\n",
       "      <th>popularity</th>\n",
       "      <th>track_genre</th>\n",
       "      <th>track_info</th>\n",
       "    </tr>\n",
       "  </thead>\n",
       "  <tbody>\n",
       "    <tr>\n",
       "      <th>0</th>\n",
       "      <td>Don't Wanna Leave You</td>\n",
       "      <td>Don't Wanna Leave You</td>\n",
       "      <td>Ben Woodward</td>\n",
       "      <td>38</td>\n",
       "      <td>acoustic</td>\n",
       "      <td>track name: Don't Wanna Leave You | album name...</td>\n",
       "    </tr>\n",
       "    <tr>\n",
       "      <th>1</th>\n",
       "      <td>Binibini</td>\n",
       "      <td>Binibini</td>\n",
       "      <td>Zack Tabudlo</td>\n",
       "      <td>67</td>\n",
       "      <td>acoustic</td>\n",
       "      <td>track name: Binibini | album name: Binibini | ...</td>\n",
       "    </tr>\n",
       "    <tr>\n",
       "      <th>2</th>\n",
       "      <td>21 Guns</td>\n",
       "      <td>21 Guns</td>\n",
       "      <td>Bailey Jehl</td>\n",
       "      <td>47</td>\n",
       "      <td>acoustic</td>\n",
       "      <td>track name: 21 Guns | album name: 21 Guns | ar...</td>\n",
       "    </tr>\n",
       "    <tr>\n",
       "      <th>3</th>\n",
       "      <td>Howlin' Wolf</td>\n",
       "      <td>Spoonful</td>\n",
       "      <td>Howlin' Wolf</td>\n",
       "      <td>58</td>\n",
       "      <td>acoustic</td>\n",
       "      <td>track name: Spoonful | album name: Howlin' Wol...</td>\n",
       "    </tr>\n",
       "    <tr>\n",
       "      <th>4</th>\n",
       "      <td>Guitar Covers, Vol. 2</td>\n",
       "      <td>He's A Pirate (From \"Pirates of the Caribbean\")</td>\n",
       "      <td>Beyond The Guitar</td>\n",
       "      <td>30</td>\n",
       "      <td>acoustic</td>\n",
       "      <td>track name: He's A Pirate (From \"Pirates of th...</td>\n",
       "    </tr>\n",
       "  </tbody>\n",
       "</table>\n",
       "</div>"
      ],
      "text/plain": [
       "              album_name                                       track_name  \\\n",
       "0  Don't Wanna Leave You                            Don't Wanna Leave You   \n",
       "1               Binibini                                         Binibini   \n",
       "2                21 Guns                                          21 Guns   \n",
       "3           Howlin' Wolf                                         Spoonful   \n",
       "4  Guitar Covers, Vol. 2  He's A Pirate (From \"Pirates of the Caribbean\")   \n",
       "\n",
       "             artists  popularity track_genre  \\\n",
       "0       Ben Woodward          38    acoustic   \n",
       "1       Zack Tabudlo          67    acoustic   \n",
       "2        Bailey Jehl          47    acoustic   \n",
       "3       Howlin' Wolf          58    acoustic   \n",
       "4  Beyond The Guitar          30    acoustic   \n",
       "\n",
       "                                          track_info  \n",
       "0  track name: Don't Wanna Leave You | album name...  \n",
       "1  track name: Binibini | album name: Binibini | ...  \n",
       "2  track name: 21 Guns | album name: 21 Guns | ar...  \n",
       "3  track name: Spoonful | album name: Howlin' Wol...  \n",
       "4  track name: He's A Pirate (From \"Pirates of th...  "
      ]
     },
     "execution_count": 28,
     "metadata": {},
     "output_type": "execute_result"
    }
   ],
   "source": [
    "# only keep the columns we need - album_name, track_name, artists, popularity, track_genre\n",
    "df = df[[\"album_name\", \"track_name\", \"artists\", \"popularity\", \"track_genre\"]]\n",
    "\n",
    "# only keep the top 10 genres\n",
    "top_genres = df[\"track_genre\"].value_counts().head(5).index\n",
    "df = df[df[\"track_genre\"].isin(top_genres)]\n",
    "\n",
    "unique_genres = df[\"track_genre\"].unique()\n",
    "num_genres = len(unique_genres)\n",
    "unique_genres, num_genres\n",
    "\n",
    "# randomly sample 40 tracks from each genre\n",
    "df = df.groupby(\"track_genre\").apply(lambda x: x.sample(40)).reset_index(drop=True)\n",
    "\n",
    "\n",
    "# create a new column which contains the concatenation of the album_name, track_name and artists in format \"track name: {track_name} | album name: {album_name} | artists: {artists}\"\n",
    "df[\"track_info\"] = df.apply(lambda x: f\"track name: {x['track_name']} | album name: {x['album_name']} | artists: {x['artists']}\", axis=1)\n",
    "\n",
    "df.head()"
   ]
  },
  {
   "cell_type": "code",
   "execution_count": null,
   "metadata": {},
   "outputs": [],
   "source": []
  }
 ],
 "metadata": {
  "kernelspec": {
   "display_name": "base",
   "language": "python",
   "name": "python3"
  },
  "language_info": {
   "codemirror_mode": {
    "name": "ipython",
    "version": 3
   },
   "file_extension": ".py",
   "mimetype": "text/x-python",
   "name": "python",
   "nbconvert_exporter": "python",
   "pygments_lexer": "ipython3",
   "version": "3.11.5"
  }
 },
 "nbformat": 4,
 "nbformat_minor": 2
}
