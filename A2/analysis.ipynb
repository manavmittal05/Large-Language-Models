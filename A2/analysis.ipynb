{
 "cells": [
  {
   "cell_type": "code",
   "execution_count": 112,
   "metadata": {},
   "outputs": [],
   "source": [
    "import pandas as pd\n",
    "\n",
    "zero_shot_data = pd.read_csv('zero_shot_answers.csv')\n",
    "chain_of_thought_data = pd.read_csv('chain_of_thought_answers.csv')"
   ]
  },
  {
   "cell_type": "code",
   "execution_count": 113,
   "metadata": {},
   "outputs": [],
   "source": [
    "class Data:\n",
    "    \n",
    "\tdef __init__(self, file_name):\n",
    "\t\tself.data = pd.read_csv(file_name)\n",
    "\t\tself.regex = r'Option '\n",
    "\t\tself.regex = r'(?i)([1-9A-Da-d])'+self.regex[::-1]\n",
    "\n",
    "\t\tself.process_data()\n",
    "\t\tself.get_accuracy()\n",
    "\t\t\n",
    "\tdef process_data(self):\n",
    "\t\tself.extract_options()\n",
    "\t\tself.add_correct_answers()\n",
    "\n",
    "\t\tself.data.drop(columns=['gemma', 'phi', 'llama'], inplace=True)\n",
    "\n",
    "\t\tself.process_options()\n",
    "\n",
    "\tdef extract_options(self):\n",
    "\n",
    "\t\tself.data['gemma'] = self.data['gemma'].str[::-1]\n",
    "\t\tself.data['phi'] = self.data['phi'].str[::-1]\n",
    "\t\tself.data['llama'] = self.data['llama'].str[::-1]\n",
    "\n",
    "\t\tself.data['gemma_option'] = self.data['gemma'].str.extract(self.regex)\n",
    "\t\tself.data['phi_option'] =   self.data['phi'].str.extract(self.regex)\n",
    "\t\tself.data['llama_option'] = self.data['llama'].str.extract(self.regex)\n",
    "\n",
    "\t\t# replace A-D with 1-4\n",
    "\t\tself.data['gemma_option'] = self.data['gemma_option'].replace({'A':1, 'B':2, 'C':3, 'D':4})\n",
    "\t\tself.data['phi_option'] = self.data['phi_option'].replace({'A':1, 'B':2, 'C':3, 'D':4})\n",
    "\t\tself.data['llama_option'] = self.data['llama_option'].replace({'A':1, 'B':2, 'C':3, 'D':4})\n",
    "\n",
    "\t\t#replace a-d with 1-4\n",
    "\t\tself.data['gemma_option'] = self.data['gemma_option'].replace({'a':1, 'b':2, 'c':3, 'd':4})\n",
    "\t\tself.data['phi_option'] = self.data['phi_option'].replace({'a':1, 'b':2, 'c':3, 'd':4})\n",
    "\t\tself.data['llama_option'] = self.data['llama_option'].replace({'a':1, 'b':2, 'c':3, 'd':4})\n",
    "\t\n",
    "\tdef add_correct_answers(self):\n",
    "\t\thgf_dataset = pd.read_parquet(\"hf://datasets/cais/mmlu/college_mathematics/test-00000-of-00001.parquet\")\n",
    "\t\tself.data['correct_answer'] = hgf_dataset['answer']\n",
    "\t\tself.data['correct_answer'] = self.data['correct_answer'] + 1\n",
    "\n",
    "\tdef process_options(self):\n",
    "\t\tself.data.fillna(0, inplace=True)\n",
    "\t\tself.data = self.data.astype(int)\n",
    "\n",
    "\n",
    "\tdef get_accuracy(self):\n",
    "\t\tprint(\"Gemma accuracy: \", (self.data['gemma_option'] == self.data['correct_answer']).mean())\n",
    "\t\tprint(\"Phi accuracy: \", (self.data['phi_option'] == self.data['correct_answer']).mean())\n",
    "\t\tprint(\"Llama accuracy: \", (self.data['llama_option'] == self.data['correct_answer']).mean())\n"
   ]
  },
  {
   "cell_type": "code",
   "execution_count": 114,
   "metadata": {},
   "outputs": [
    {
     "name": "stdout",
     "output_type": "stream",
     "text": [
      "Gemma accuracy:  0.25\n",
      "Phi accuracy:  0.28\n",
      "Llama accuracy:  0.35\n"
     ]
    },
    {
     "data": {
      "text/plain": [
       "<__main__.Data at 0x73c1e21a38c0>"
      ]
     },
     "execution_count": 114,
     "metadata": {},
     "output_type": "execute_result"
    }
   ],
   "source": [
    "Data('zero_shot_answers.csv')"
   ]
  },
  {
   "cell_type": "code",
   "execution_count": 115,
   "metadata": {},
   "outputs": [
    {
     "name": "stdout",
     "output_type": "stream",
     "text": [
      "Gemma accuracy:  0.29\n",
      "Phi accuracy:  0.41\n",
      "Llama accuracy:  0.37\n"
     ]
    },
    {
     "data": {
      "text/plain": [
       "<__main__.Data at 0x73c1e21a37d0>"
      ]
     },
     "execution_count": 115,
     "metadata": {},
     "output_type": "execute_result"
    }
   ],
   "source": [
    "Data('chain_of_thought_answers.csv')"
   ]
  },
  {
   "cell_type": "code",
   "execution_count": 7,
   "metadata": {},
   "outputs": [
    {
     "name": "stdout",
     "output_type": "stream",
     "text": [
      "Gemma accuracy:  0.12\n",
      "Phi accuracy:  0.32\n",
      "Llama accuracy:  0.31\n"
     ]
    },
    {
     "data": {
      "text/plain": [
       "<__main__.Data at 0x78e623b15850>"
      ]
     },
     "execution_count": 7,
     "metadata": {},
     "output_type": "execute_result"
    }
   ],
   "source": [
    "Data('react_answers.csv')"
   ]
  },
  {
   "cell_type": "code",
   "execution_count": null,
   "metadata": {},
   "outputs": [],
   "source": []
  }
 ],
 "metadata": {
  "kernelspec": {
   "display_name": "base",
   "language": "python",
   "name": "python3"
  },
  "language_info": {
   "codemirror_mode": {
    "name": "ipython",
    "version": 3
   },
   "file_extension": ".py",
   "mimetype": "text/x-python",
   "name": "python",
   "nbconvert_exporter": "python",
   "pygments_lexer": "ipython3",
   "version": "3.12.5"
  }
 },
 "nbformat": 4,
 "nbformat_minor": 2
}
